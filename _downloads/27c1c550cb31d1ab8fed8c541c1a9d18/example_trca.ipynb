{
  "cells": [
    {
      "cell_type": "code",
      "execution_count": null,
      "metadata": {
        "collapsed": false
      },
      "outputs": [],
      "source": [
        "%matplotlib inline"
      ]
    },
    {
      "cell_type": "markdown",
      "metadata": {},
      "source": [
        "\n# Task-related component analysis (TRCA)-based SSVEP detection\n\nSample code for the task-related component analysis (TRCA)-based steady\n-state visual evoked potential (SSVEP) detection method [1]_. The filter\nbank analysis [2, 3]_ can also be combined to the TRCA-based algorithm.\n\nUses meegkit.trca.TRCA()\n\nReferences:\n\n.. [1] M. Nakanishi, Y. Wang, X. Chen, Y.-T. Wang, X. Gao, and T.-P. Jung,\n   \"Enhancing detection of SSVEPs for a high-speed brain speller using\n   task-related component analysis\", IEEE Trans. Biomed. Eng, 65(1): 104-112,\n   2018.\n.. [2] X. Chen, Y. Wang, S. Gao, T. -P. Jung and X. Gao, \"Filter bank\n   canonical correlation analysis for implementing a high-speed SSVEP-based\n   brain-computer interface\", J. Neural Eng., 12: 046008, 2015.\n.. [3] X. Chen, Y. Wang, M. Nakanishi, X. Gao, T. -P. Jung, S. Gao,\n   \"High-speed spelling with a noninvasive brain-computer interface\",\n   Proc. Int. Natl. Acad. Sci. U. S. A, 112(44): E6058-6067, 2015.\n\nThis code is based on the Matlab implementation from\nhttps://github.com/mnakanishi/TRCA-SSVEP\n"
      ]
    },
    {
      "cell_type": "code",
      "execution_count": null,
      "metadata": {
        "collapsed": false
      },
      "outputs": [],
      "source": [
        "# Author: Giuseppe Ferraro <giuseppe.ferraro@isae-supaero.fr>\nimport os\nimport time\n\nimport numpy as np\nimport scipy.io\nfrom meegkit.trca import TRCA\nfrom meegkit.utils.trca import itr, normfit, round_half_up\n\nt = time.time()"
      ]
    },
    {
      "cell_type": "markdown",
      "metadata": {},
      "source": [
        "## Parameters\n\n"
      ]
    },
    {
      "cell_type": "code",
      "execution_count": null,
      "metadata": {
        "collapsed": false
      },
      "outputs": [],
      "source": [
        "len_gaze_s = 0.5  # data length for target identification [s]\nlen_delay_s = 0.13  # visual latency being considered in the analysis [s]\nn_bands = 5  # number of sub-bands in filter bank analysis\nis_ensemble = True  # True = ensemble TRCA method; False = TRCA method\nalpha_ci = 0.05   # 100*(1-alpha_ci): confidence interval for accuracy\nsfreq = 250  # sampling rate [Hz]\nlen_shift_s = 0.5  # duration for gaze shifting [s]\nlist_freqs = np.concatenate(\n    [[x + 8 for x in range(8)],\n     [x + 8.2 for x in range(8)],\n     [x + 8.4 for x in range(8)],\n     [x + 8.6 for x in range(8)],\n     [x + 8.8 for x in range(8)]])  # list of stimulus frequencies\nn_targets = len(list_freqs)  # The number of stimuli\n\n# Preparing useful variables (DONT'T need to modify)\nlen_gaze_smpl = round_half_up(len_gaze_s * sfreq)  # data length [samples]\nlen_delay_smpl = round_half_up(len_delay_s * sfreq)  # visual latency [samples]\nlen_sel_s = len_gaze_s + len_shift_s  # selection time [s]\nci = 100 * (1 - alpha_ci)  # confidence interval\n\n# Performing the TRCA-based SSVEP detection algorithm\nprint('Results of the ensemble TRCA-based method:\\n')"
      ]
    },
    {
      "cell_type": "markdown",
      "metadata": {},
      "source": [
        "## Load data\n\n"
      ]
    },
    {
      "cell_type": "code",
      "execution_count": null,
      "metadata": {
        "collapsed": false
      },
      "outputs": [],
      "source": [
        "path = os.path.join('..', 'tests', 'data', 'trcadata.mat')\nmat = scipy.io.loadmat(path)\neeg = mat[\"eeg\"]\n\nn_trials = eeg.shape[0]\nn_chans = eeg.shape[1]\nn_samples = eeg.shape[2]\nn_blocks = eeg.shape[3]\n\n# Convert dummy Matlab format to (sample, channels, trials) and construct\n# vector of labels\neeg = np.reshape(eeg.transpose([2, 1, 3, 0]),\n                 (n_samples, n_chans, n_trials * n_blocks))\nlabels = np.array([x for x in range(n_targets)] * n_blocks)\n\ncrop_data = np.arange(len_delay_smpl, len_delay_smpl + len_gaze_smpl)\neeg = eeg[crop_data]"
      ]
    },
    {
      "cell_type": "markdown",
      "metadata": {},
      "source": [
        "## TRCA classification\nEstimate classification performance with a Leave-One-Block-Out\ncross-validation approach.\n\n"
      ]
    },
    {
      "cell_type": "code",
      "execution_count": null,
      "metadata": {
        "collapsed": false
      },
      "outputs": [],
      "source": [
        "# We use the filterbank specification described in [2]_.\nfilterbank = [[(6, 90), (4, 100)],  # passband, stopband freqs [(Wp), (Ws)]\n              [(14, 90), (10, 100)],\n              [(22, 90), (16, 100)],\n              [(30, 90), (24, 100)],\n              [(38, 90), (32, 100)],\n              [(46, 90), (40, 100)],\n              [(54, 90), (48, 100)]]\ntrca = TRCA(sfreq, filterbank, is_ensemble)\n\naccs = np.zeros(n_blocks)\nitrs = np.zeros(n_blocks)\nfor i in range(n_blocks):\n\n    # Training stage\n    traindata = eeg.copy()\n\n    # Select all folds except one for training\n    traindata = np.concatenate(\n        (traindata[..., :i * n_trials],\n         traindata[..., (i + 1) * n_trials:]), 2)\n    y_train = np.concatenate(\n        (labels[:i * n_trials], labels[(i + 1) * n_trials:]), 0)\n\n    # Construction of the spatial filter and the reference signals\n    trca.fit(traindata, y_train)\n\n    # Test stage\n    testdata = eeg[..., i * n_trials:(i + 1) * n_trials]\n    y_test = labels[i * n_trials:(i + 1) * n_trials]\n    estimated = trca.predict(testdata)\n\n    # Evaluation of the performance for this fold (accuracy and ITR)\n    is_correct = estimated == y_test\n    accs[i] = np.mean(is_correct) * 100\n    itrs[i] = itr(n_targets, np.mean(is_correct), len_sel_s)\n    print(f\"Block {i}: accuracy = {accs[i]:.1f}, \\tITR = {itrs[i]:.1f}\")\n\n# Mean accuracy and ITR computation\nmu, _, muci, _ = normfit(accs, alpha_ci)\nprint()\nprint(f\"Mean accuracy = {mu:.1f}%\\t({ci:.0f}% CI: {muci[0]:.1f}-{muci[1]:.1f}%)\")  # noqa\n\nmu, _, muci, _ = normfit(itrs, alpha_ci)\nprint(f\"Mean ITR = {mu:.1f}\\t({ci:.0f}% CI: {muci[0]:.1f}-{muci[1]:.1f}%)\")\nif is_ensemble:\n    ensemble = 'ensemble TRCA-based method'\nelse:\n    ensemble = 'TRCA-based method'\n\nprint(f\"\\nElapsed time: {time.time()-t:.1f} seconds\")"
      ]
    }
  ],
  "metadata": {
    "kernelspec": {
      "display_name": "Python 3",
      "language": "python",
      "name": "python3"
    },
    "language_info": {
      "codemirror_mode": {
        "name": "ipython",
        "version": 3
      },
      "file_extension": ".py",
      "mimetype": "text/x-python",
      "name": "python",
      "nbconvert_exporter": "python",
      "pygments_lexer": "ipython3",
      "version": "3.8.7"
    }
  },
  "nbformat": 4,
  "nbformat_minor": 0
}